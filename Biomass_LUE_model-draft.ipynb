{
 "cells": [
  {
   "cell_type": "markdown",
   "id": "a3681811",
   "metadata": {},
   "source": [
    "Biomass Grass production based on light use efficiency models"
   ]
  },
  {
   "cell_type": "code",
   "execution_count": null,
   "id": "c7464d6a",
   "metadata": {},
   "outputs": [],
   "source": [
    "install.packages(\"dplyr\")\n",
    "install.packages(\"sp\")\n",
    "install.packages(\"raster\")\n",
    "install.packages(\"lubridate\")\n",
    "install.packages(\"imputeTS\")\n",
    "install.packages(\"rgdal\")\n",
    "\n",
    "library(dplyr)\n",
    "library(sp)\n",
    "library(raster)\n",
    "library(lubridate)\n",
    "library(imputeTS)\n",
    "library(rgdal)"
   ]
  },
  {
   "cell_type": "code",
   "execution_count": null,
   "id": "89483adb",
   "metadata": {},
   "outputs": [],
   "source": [
    "# Dates interval\n",
    "start<-'2021-07-01'\n",
    "end<-'2022-08-31'\n",
    "# Thresholds depending on biome (look-up table BPLUT):\n",
    "emax= 1.24   #introducir el epsilon m?ximo (g/MJ)\n",
    "tmin_max= 11.39  # ºC\n",
    "tmin_min= -8  # ºC\n",
    "vpd_max= 3.2  # kPa\n",
    "vpd_min= 0.65  # kPa "
   ]
  },
  {
   "cell_type": "code",
   "execution_count": null,
   "id": "41628a4f",
   "metadata": {},
   "outputs": [],
   "source": [
    "root<-getwd()  #Save root folder for the script\n",
    "root"
   ]
  },
  {
   "cell_type": "code",
   "execution_count": null,
   "id": "46015371",
   "metadata": {},
   "outputs": [],
   "source": [
    "  #Loading meteorological data archive, order it and interpolate\n",
    "meteo<-read.csv('DHMR01.csv',dec = ',') \n",
    "meteo$fecha<-dmy(meteo$fecha) #check for other data, this order gives format to datatimes\n",
    "meteo<-meteo[order(meteo$fecha),] #order\n",
    "meteo<-meteo[meteo$fecha>=start&meteo$fecha<=end,]\n",
    "print('Meteo archives loaded')"
   ]
  },
  {
   "cell_type": "code",
   "execution_count": null,
   "id": "ac9ae496",
   "metadata": {},
   "outputs": [],
   "source": [
    "#brick of images interpolated\n",
    "NDVI_brick_interpoladas<-brick('NDVI_interpoladas_DHMR01.grd',sep='')\n",
    "fechas<-data.frame(fecha=ymd(substr(names(NDVI_brick_interpoladas),5,12))) #pick up dates from available images\n",
    "indices<-1:nrow(fechas) #Index from images\n",
    "fechas_analisis<-fechas[fechas$fecha>=start&fechas$fecha<=end,]\n",
    "indices_analisis<-indices[fechas$fecha%in%fechas_analisis]\n",
    "NDVI_brick_interpoladas<-subset(NDVI_brick_interpoladas,indices_analisis)\n",
    "print('loaded images')"
   ]
  },
  {
   "cell_type": "code",
   "execution_count": null,
   "id": "e39e071c",
   "metadata": {},
   "outputs": [],
   "source": [
    "#adjust dates\n",
    "fechas<-data.frame(fecha=ymd(substr(names(NDVI_brick_interpoladas),5,12))) #all dates\n",
    "meteo<-merge(fechas,meteo,by='fecha',all.x=TRUE) #recalculate\n",
    "print('adust dates')"
   ]
  },
  {
   "cell_type": "code",
   "execution_count": null,
   "id": "85e2174b",
   "metadata": {},
   "outputs": [],
   "source": [
    "names(meteo)[3]<-'TMin'\n",
    "names(meteo)[4]<-'TMed'\n",
    "#interpolate if meteo data is missing\n",
    "meteo$TMin<-round(na_interpolation(meteo$TMin),1)\n",
    "meteo$TMed<-round(na_interpolation(meteo$TMed),1)\n",
    "meteo$HR<-round(na_interpolation(meteo$HR),1)\n",
    "meteo$Rad<-round(na_interpolation(meteo$Rad),1)\n",
    "print('meteo interpolated')"
   ]
  },
  {
   "cell_type": "code",
   "execution_count": null,
   "id": "0267f4b3",
   "metadata": {},
   "outputs": [],
   "source": [
    "# ec. saturate vapor pressure\n",
    "meteo$es<-(0.611*exp((17.27*meteo$TMed)/(237.3+meteo$TMed)))*10 \n",
    "# ec. vapor pressure   \n",
    "meteo$eamb<-meteo$es*meteo$HR/100\n",
    "#in kPa\n",
    "meteo$DPV<-(meteo$es-meteo$eamb)/10\n",
    "  \n",
    "# Scalar Tmin, scalar VPD, and maximum epsilon from BPLUT description\n",
    "meteo$tminesc<-(meteo$TMin-tmin_min)/(tmin_max-tmin_min)\n",
    "    if(length(meteo[meteo$tminesc<0,]$tminesc)>0) {meteo[meteo$tminesc<0,]$tminesc<-0}\n",
    "    if(length(meteo[meteo$tminesc>1,]$tminesc)>0) {meteo[meteo$tminesc>1,]$tminesc<-1}\n",
    "    meteo$VPDesc<-1+((vpd_min-meteo$DPV)/(vpd_max-vpd_min))\n",
    "    if(length(meteo[meteo$VPDesc<0,]$VPDesc)>0){meteo[meteo$VPDesc<0,]$VPDesc<-0}\n",
    "    if(length(meteo[meteo$VPDesc>1,]$VPDesc)>0){meteo[meteo$VPDesc>1,]$VPDesc<-1}\n",
    "  \n",
    "#epsilon\n",
    "meteo$epsilon<-emax*meteo$tminesc*meteo$VPDesc\n",
    "meteo$epsilong<-0.86*meteo$tminesc*meteo$VPDesc\n",
    "  \n",
    "#PAR from radiation\n",
    "meteo$PAR<-0.48*meteo$Rad\n",
    "  \n",
    "#export meteo table\n",
    "write.csv(meteo,file='meteo.csv')\n",
    "reclass_0<-matrix(c(-Inf,0,0),ncol=3) #matriz para reclasificar todos los valores "
   ]
  },
  {
   "cell_type": "code",
   "execution_count": null,
   "id": "14a935c7",
   "metadata": {},
   "outputs": [],
   "source": [
    "    for (i in 1:nlayers(NDVI_brick_interpoladas)){\n",
    "        imagen<-raster(NDVI_brick_interpoladas,layer=i)\n",
    "        year<-substr(names(imagen),5,8)\n",
    "        base<-raster(paste('verano/verano',year,'DHMR01.tif',sep=''))\n",
    "        ajustada<-imagen-base   \n",
    "        fpar<-1.26*ajustada-0.19\n",
    "        fpar<-reclassify(fpar,reclass_0)  #ajusta a 0 los valores de fpar negativos\n",
    "        if(i==1){fpar_brick<-brick(fpar)\n",
    "        names(fpar_brick)[i]<-paste('fpar_',names(imagen),sep='')} \n",
    "        else{fpar_brick<-addLayer(fpar_brick,fpar)  #Lo transforma en stack pero como brick es mucho más lento\n",
    "        names(fpar_brick)[i]<-paste('fpar_',names(imagen),sep='')}\n",
    "        NPP<-10*fpar*meteo$PAR[i]*meteo$epsilon[i]\n",
    "        NPP<-reclassify(NPP,reclass_0)  #ajusta a 0 los valores de NPP negativos          \n",
    "        if(i==1){NPP_brick<-brick(NPP)\n",
    "        names(NPP_brick)[i]<-paste('NPP_',names(imagen),sep='')\n",
    "        acumulado<-reclassify(NPP,matrix(c(-Inf,0,0),ncol=3))\n",
    "        NPPa_brick<-brick(acumulado)\n",
    "        names(NPPa_brick)[i]<-paste('NPPa_',names(imagen),sep='')\n",
    "                } \n",
    "        else{NPP_brick<-addLayer(NPP_brick,NPP)\n",
    "             names(NPP_brick)[i]<-paste('NPP_',names(imagen),sep='')\n",
    "             acumulado<-reclassify(acumulado,matrix(c(-Inf,0,0),ncol=3))\n",
    "        if (substr(names(imagen),9,12)=='0831'){acumulado<-acumulado*0}else{acumulado<-acumulado+NPP}\n",
    "             NPPa_brick<-addLayer(NPPa_brick,acumulado)\n",
    "             names(NPPa_brick)[i]<-paste('NPPa_',names(imagen),sep='')\n",
    "            }\n",
    "        print(paste('layer ',i,' over ',nlayers(NDVI_brick_interpoladas),'  ',round(i*100/nlayers(NDVI_brick_interpoladas),2),'%',sep=''))\n",
    "    }"
   ]
  },
  {
   "cell_type": "code",
   "execution_count": null,
   "id": "d9302537",
   "metadata": {},
   "outputs": [],
   "source": [
    "#All store in brick        \n",
    "dir.create('biomasa')\n",
    "writeRaster(fpar_brick,\n",
    "            filename=paste('biomasa/fpar_emax',emax*100,'.grd',sep=''), \n",
    "            format=\"raster\", \n",
    "            overwrite=TRUE)\n",
    "writeRaster(NPP_brick, \n",
    "            filename=paste('biomasa/NPP_emax',emax*100,'.grd',sep=''), \n",
    "            format=\"raster\", \n",
    "            overwrite=TRUE)\n",
    "writeRaster(NPPa_brick, \n",
    "            filename=paste('biomasa/NPPa_emax',emax*100,'.grd',sep=''), \n",
    "            format=\"raster\", \n",
    "            overwrite=TRUE)"
   ]
  },
  {
   "cell_type": "code",
   "execution_count": null,
   "id": "ee5e70f3",
   "metadata": {},
   "outputs": [],
   "source": [
    "#Zone stats\n",
    "poly<-readOGR(paste('coberturas/DHMR01.shp',sep=''))  #zone\n",
    "poly<-spTransform(x = poly, #google engine proyection\n",
    "                  CRSobj = '+proj=utm +zone=30 +datum=WGS84 +units=m +no_defs +ellps=WGS84 +towgs84=0,0,0 ')\n",
    "NPPa_mean <- extract(NPPa_brick, poly, fun='mean', na.rm=TRUE, df=FALSE, weights = TRUE) \n",
    "NPPa_mean<-data.frame(t(NPPa_mean))  #transponemos el dataframe\n",
    "colnames(NPPa_mean)<-paste(poly$Name,'_',emax*100,sep='')\n",
    "NPPa_mean<-data.frame(NPPa_mean,fecha=ymd(substr(rownames(NPPa_mean),10,17)))\n",
    "  \n",
    "write.csv(NPPa_mean,paste('biomasa/NPPa_mean.csv',sep=''))\n",
    "  \n",
    "NPP_mean <- extract(NPP_brick, poly, fun='mean', na.rm=TRUE, df=FALSE, weights = TRUE) \n",
    "NPP_mean<-data.frame(t(NPP_mean))  #transponemos el dataframe\n",
    "colnames(NPP_mean)<-paste(poly$Name,'_',emax*100,sep='')\n",
    "NPP_mean<-data.frame(NPP_mean,fecha=ymd(substr(rownames(NPP_mean),10,17)))\n",
    "  \n",
    "write.csv(NPP_mean,paste('biomasa/NPP_mean.csv',sep=''))\n",
    "\n",
    "  \n",
    "setwd(root)\n",
    "\n"
   ]
  },
  {
   "cell_type": "code",
   "execution_count": null,
   "id": "5e935b5b",
   "metadata": {},
   "outputs": [],
   "source": []
  }
 ],
 "metadata": {
  "kernelspec": {
   "display_name": "R",
   "language": "R",
   "name": "ir"
  },
  "language_info": {
   "codemirror_mode": "r",
   "file_extension": ".r",
   "mimetype": "text/x-r-source",
   "name": "R",
   "pygments_lexer": "r",
   "version": "4.2.0"
  }
 },
 "nbformat": 4,
 "nbformat_minor": 5
}
